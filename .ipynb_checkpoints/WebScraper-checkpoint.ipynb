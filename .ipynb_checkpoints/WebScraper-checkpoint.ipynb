{
 "cells": [
  {
   "cell_type": "code",
   "execution_count": 1,
   "metadata": {},
   "outputs": [],
   "source": [
    "from bs4 import BeautifulSoup as soup\n",
    "from urllib.request import urlopen as uReq\n",
    "import pandas as pd"
   ]
  },
  {
   "cell_type": "code",
   "execution_count": 2,
   "metadata": {},
   "outputs": [],
   "source": [
    "#Get labs urls\n",
    "link = uReq('https://wwwn.cdc.gov/nchs/nhanes/Search/DataPage.aspx?Component=Laboratory&CycleBeginYear=2013')\n",
    "page_soup = soup(link.read(), \"html.parser\")\n",
    "containers = page_soup.findAll(\"table\", {\"class\":\"table table-bordered table-header-light table-striped table-hover table-hover-light nein-scroll\"})\n",
    "table = containers[0].findAll('a')\n",
    "ls_labs = []\n",
    "\n",
    "for i in range(0,len(table)):\n",
    "    ls_labs.append('https://wwwn.cdc.gov'+table[i].get('href'))\n",
    "ls_labs = list(filter(lambda x: 'htm' in x,ls_labs))"
   ]
  },
  {
   "cell_type": "code",
   "execution_count": 3,
   "metadata": {},
   "outputs": [
    {
     "ename": "NameError",
     "evalue": "name 'ls_' is not defined",
     "output_type": "error",
     "traceback": [
      "\u001b[1;31m---------------------------------------------------------------------------\u001b[0m",
      "\u001b[1;31mNameError\u001b[0m                                 Traceback (most recent call last)",
      "\u001b[1;32m<ipython-input-3-9082cf561bd9>\u001b[0m in \u001b[0;36m<module>\u001b[1;34m\u001b[0m\n\u001b[0;32m      5\u001b[0m \u001b[0mtable\u001b[0m \u001b[1;33m=\u001b[0m \u001b[0mcontainers\u001b[0m\u001b[1;33m[\u001b[0m\u001b[1;36m0\u001b[0m\u001b[1;33m]\u001b[0m\u001b[1;33m.\u001b[0m\u001b[0mfindAll\u001b[0m\u001b[1;33m(\u001b[0m\u001b[1;34m'a'\u001b[0m\u001b[1;33m)\u001b[0m\u001b[1;33m\u001b[0m\u001b[1;33m\u001b[0m\u001b[0m\n\u001b[0;32m      6\u001b[0m \u001b[0mls_questionnaire\u001b[0m \u001b[1;33m=\u001b[0m \u001b[1;33m[\u001b[0m\u001b[1;33m]\u001b[0m\u001b[1;33m\u001b[0m\u001b[1;33m\u001b[0m\u001b[0m\n\u001b[1;32m----> 7\u001b[1;33m \u001b[0mls_\u001b[0m\u001b[1;33m\u001b[0m\u001b[1;33m\u001b[0m\u001b[0m\n\u001b[0m\u001b[0;32m      8\u001b[0m \u001b[1;32mfor\u001b[0m \u001b[0mi\u001b[0m \u001b[1;32min\u001b[0m \u001b[0mrange\u001b[0m\u001b[1;33m(\u001b[0m\u001b[1;36m0\u001b[0m\u001b[1;33m,\u001b[0m\u001b[0mlen\u001b[0m\u001b[1;33m(\u001b[0m\u001b[0mtable\u001b[0m\u001b[1;33m)\u001b[0m\u001b[1;33m)\u001b[0m\u001b[1;33m:\u001b[0m\u001b[1;33m\u001b[0m\u001b[1;33m\u001b[0m\u001b[0m\n\u001b[0;32m      9\u001b[0m     \u001b[0mls_questionnaire\u001b[0m\u001b[1;33m.\u001b[0m\u001b[0mappend\u001b[0m\u001b[1;33m(\u001b[0m\u001b[1;34m'https://wwwn.cdc.gov'\u001b[0m\u001b[1;33m+\u001b[0m\u001b[0mtable\u001b[0m\u001b[1;33m[\u001b[0m\u001b[0mi\u001b[0m\u001b[1;33m]\u001b[0m\u001b[1;33m.\u001b[0m\u001b[0mget\u001b[0m\u001b[1;33m(\u001b[0m\u001b[1;34m'href'\u001b[0m\u001b[1;33m)\u001b[0m\u001b[1;33m)\u001b[0m\u001b[1;33m\u001b[0m\u001b[1;33m\u001b[0m\u001b[0m\n",
      "\u001b[1;31mNameError\u001b[0m: name 'ls_' is not defined"
     ]
    }
   ],
   "source": [
    "#Get questionnaire urls\n",
    "link = uReq('https://wwwn.cdc.gov/Nchs/Nhanes/Search/DataPage.aspx?Component=Questionnaire&CycleBeginYear=2013')\n",
    "page_soup = soup(link.read(), \"html.parser\")\n",
    "containers = page_soup.findAll(\"table\", {\"class\":\"table table-bordered table-header-light table-striped table-hover table-hover-light nein-scroll\"})\n",
    "table = containers[0].findAll('a')\n",
    "ls_questionnaire = []\n",
    "\n",
    "for i in range(0,len(table)):\n",
    "    ls_questionnaire.append('https://wwwn.cdc.gov'+table[i].get('href'))\n",
    "ls_questionnaire = list(filter(lambda x: 'htm' in x,ls_questionnaire))"
   ]
  },
  {
   "cell_type": "code",
   "execution_count": null,
   "metadata": {},
   "outputs": [],
   "source": [
    "#All urls\n",
    "\n",
    "list_url = {'Demographic':['https://wwwn.cdc.gov/Nchs/Nhanes/2013-2014/DEMO_H.htm'],\n",
    "            'Examinations':['https://wwwn.cdc.gov/Nchs/Nhanes/2013-2014/BPX_H.htm','https://wwwn.cdc.gov/Nchs/Nhanes/2013-2014/BMX_H.htm','https://wwwn.cdc.gov/Nchs/Nhanes/2013-2014/OHXDEN_H.htm','https://wwwn.cdc.gov/Nchs/Nhanes/2013-2014/CSX_H.htm'],\n",
    "            'Labs':ls_labs,\n",
    "            'Diet':['https://wwwn.cdc.gov/Nchs/Nhanes/2013-2014/DR1TOT_H.htm'],\n",
    "            'Questionnaire':ls_questionnaire}"
   ]
  },
  {
   "cell_type": "code",
   "execution_count": null,
   "metadata": {},
   "outputs": [],
   "source": [
    "list_url = {'Questionnaire':['https://wwwn.cdc.gov/Nchs/Nhanes/2013-2014/ACQ_H.htm',\n",
    " 'https://wwwn.cdc.gov/Nchs/Nhanes/2013-2014/ALQ_H.htm',\n",
    " 'https://wwwn.cdc.gov/Nchs/Nhanes/2013-2014/BPQ_H.htm',\n",
    " 'https://wwwn.cdc.gov/Nchs/Nhanes/2013-2014/CDQ_H.htm',\n",
    " 'https://wwwn.cdc.gov/Nchs/Nhanes/2013-2014/CFQ_H.htm',\n",
    " 'https://wwwn.cdc.gov/Nchs/Nhanes/2013-2014/CBQ_H.htm',\n",
    " 'https://wwwn.cdc.gov/Nchs/Nhanes/2013-2014/CKQ_H.htm',\n",
    " 'https://wwwn.cdc.gov/Nchs/Nhanes/2013-2014/HSQ_H.htm',\n",
    " 'https://wwwn.cdc.gov/Nchs/Nhanes/2013-2014/DEQ_H.htm',\n",
    " 'https://wwwn.cdc.gov/Nchs/Nhanes/2013-2014/DIQ_H.htm',\n",
    " 'https://wwwn.cdc.gov/Nchs/Nhanes/2013-2014/DBQ_H.htm',\n",
    " 'https://wwwn.cdc.gov/Nchs/Nhanes/2013-2014/DLQ_H.htm',\n",
    " 'https://wwwn.cdc.gov/Nchs/Nhanes/2013-2014/DUQ_H.htm',\n",
    " 'https://wwwn.cdc.gov/Nchs/Nhanes/2013-2014/ECQ_H.htm',\n",
    " 'https://wwwn.cdc.gov/Nchs/Nhanes/2013-2014/FSQ_H.htm',\n",
    " 'https://wwwn.cdc.gov/Nchs/Nhanes/2013-2014/HIQ_H.htm',\n",
    " 'https://wwwn.cdc.gov/Nchs/Nhanes/2013-2014/HEQ_H.htm',\n",
    " 'https://wwwn.cdc.gov/Nchs/Nhanes/2013-2014/HUQ_H.htm',\n",
    " 'https://wwwn.cdc.gov/Nchs/Nhanes/2013-2014/HOQ_H.htm',\n",
    " 'https://wwwn.cdc.gov/Nchs/Nhanes/2013-2014/IMQ_H.htm',\n",
    " 'https://wwwn.cdc.gov/Nchs/Nhanes/2013-2014/INQ_H.htm',\n",
    " 'https://wwwn.cdc.gov/Nchs/Nhanes/2013-2014/KIQ_U_H.htm',\n",
    " 'https://wwwn.cdc.gov/Nchs/Nhanes/2013-2014/MCQ_H.htm',\n",
    " 'https://wwwn.cdc.gov/Nchs/Nhanes/2013-2014/DPQ_H.htm',\n",
    " 'https://wwwn.cdc.gov/Nchs/Nhanes/2013-2014/OCQ_H.htm',\n",
    " 'https://wwwn.cdc.gov/Nchs/Nhanes/2013-2014/OHQ_H.htm',\n",
    " 'https://wwwn.cdc.gov/Nchs/Nhanes/2013-2014/OSQ_H.htm',\n",
    " 'https://wwwn.cdc.gov/Nchs/Nhanes/2013-2014/PUQMEC_H.htm',\n",
    " 'https://wwwn.cdc.gov/Nchs/Nhanes/2013-2014/PAQ_H.htm',\n",
    " 'https://wwwn.cdc.gov/Nchs/Nhanes/2013-2014/PFQ_H.htm',\n",
    " 'https://wwwn.cdc.gov/Nchs/Nhanes/2013-2014/RXQ_RX_H.htm',\n",
    " 'https://wwwn.cdc.gov/Nchs/Nhanes/1999-2000/RXQ_DRUG.htm',\n",
    " 'https://wwwn.cdc.gov/Nchs/Nhanes/2013-2014/RXQASA_H.htm',\n",
    " 'https://wwwn.cdc.gov/Nchs/Nhanes/2013-2014/RHQ_H.htm',\n",
    " 'https://wwwn.cdc.gov/Nchs/Nhanes/2013-2014/SXQ_H.htm',\n",
    " 'https://wwwn.cdc.gov/Nchs/Nhanes/2013-2014/SLQ_H.htm',\n",
    " 'https://wwwn.cdc.gov/Nchs/Nhanes/2013-2014/SMQ_H.htm',\n",
    " 'https://wwwn.cdc.gov/Nchs/Nhanes/2013-2014/SMQFAM_H.htm',\n",
    " 'https://wwwn.cdc.gov/Nchs/Nhanes/2013-2014/SMQRTU_H.htm',\n",
    " 'https://wwwn.cdc.gov/Nchs/Nhanes/2013-2014/SMQSHS_H.htm',\n",
    " 'https://wwwn.cdc.gov/Nchs/Nhanes/2013-2014/CSQ_H.htm',\n",
    " 'https://wwwn.cdc.gov/Nchs/Nhanes/2013-2014/VTQ_H.htm',\n",
    " 'https://wwwn.cdc.gov/Nchs/Nhanes/2013-2014/WHQ_H.htm',\n",
    " 'https://wwwn.cdc.gov/Nchs/Nhanes/2013-2014/WHQMEC_H.htm']}"
   ]
  },
  {
   "cell_type": "code",
   "execution_count": null,
   "metadata": {},
   "outputs": [],
   "source": [
    "def scraper(list_url):\n",
    "    for dataset in list_url:\n",
    "        ls_final = []\n",
    "        for n in range(0,len(list_url[dataset])):\n",
    "            page_url = list_url[dataset][n]\n",
    "            # opens the connection and downloads html page from url\n",
    "            link = uReq(page_url)\n",
    "            # parses html into a soup data structure to traverse html as if it were a json data type.\n",
    "            page_soup = soup(link.read(), \"html.parser\")\n",
    "            #link.close()\n",
    "            # get all tables\n",
    "            containers = page_soup.findAll(\"div\", {\"class\": \"pagebreak\"})\n",
    "            df = pd.DataFrame()\n",
    "            #get all rows\n",
    "            for i in range(1,len(containers)):\n",
    "                # title\n",
    "                title = containers[i].h3.get_text()\n",
    "                short_title = containers[i].find(\"dd\",{\"class\":\"info\"}).get_text()\n",
    "                # body values\n",
    "                try:\n",
    "                    table = containers[i].tbody.findAll('tr')\n",
    "                    ls = []\n",
    "                    #ls = ls.append(title)\n",
    "                    for i in table:\n",
    "                        ls.append(i.text)\n",
    "                    #clean the \\n and append to the table\n",
    "                    for i in ls:\n",
    "                        ls_final.append(short_title + \",\" + title + i.replace('\\n',','))\n",
    "                except:\n",
    "                    break\n",
    "            print(page_url)\n",
    "        #conver to dataframe\n",
    "        df = pd.DataFrame(ls_final)\n",
    "        #expand\n",
    "        cleaned = df[0].str.split(',', expand=True)\n",
    "        #drop other columns\n",
    "        cleaned = cleaned.iloc[:,:5]\n",
    "        #rename columns\n",
    "        cleaned.columns = ['short_title','title','code or value','description','count']\n",
    "\n",
    "        #save to csv\n",
    "        cleaned.to_csv(r'{title}.csv'.format(title = dataset),index=False)"
   ]
  },
  {
   "cell_type": "code",
   "execution_count": null,
   "metadata": {},
   "outputs": [],
   "source": [
    "scraper(list_url)"
   ]
  }
 ],
 "metadata": {
  "kernelspec": {
   "display_name": "Python 3",
   "language": "python",
   "name": "python3"
  },
  "language_info": {
   "codemirror_mode": {
    "name": "ipython",
    "version": 3
   },
   "file_extension": ".py",
   "mimetype": "text/x-python",
   "name": "python",
   "nbconvert_exporter": "python",
   "pygments_lexer": "ipython3",
   "version": "3.7.3"
  }
 },
 "nbformat": 4,
 "nbformat_minor": 2
}
